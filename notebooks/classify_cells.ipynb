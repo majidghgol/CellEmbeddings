{
 "cells": [
  {
   "cell_type": "code",
   "execution_count": null,
   "metadata": {},
   "outputs": [],
   "source": [
    "%load_ext autoreload\n",
    "%autoreload 2"
   ]
  },
  {
   "cell_type": "code",
   "execution_count": null,
   "metadata": {},
   "outputs": [],
   "source": [
    "import sys\n",
    "sys.path.append('..')\n",
    "from src.cell_embedding import CellEmbedding\n",
    "from src.toolkit import get_vec_tarr, get_sheet_names, get_sheet_tarr\n",
    "from src.cell_classification import CellLSTMClassification"
   ]
  },
  {
   "cell_type": "code",
   "execution_count": null,
   "metadata": {},
   "outputs": [],
   "source": [
    "get_sheet_names('../sample_data/test.xls', 'xls')"
   ]
  },
  {
   "cell_type": "code",
   "execution_count": null,
   "metadata": {},
   "outputs": [],
   "source": [
    "tarr = get_sheet_tarr('../sample_data/test.xls', '17robtbl3', 'xls')"
   ]
  },
  {
   "cell_type": "code",
   "execution_count": null,
   "metadata": {},
   "outputs": [],
   "source": [
    "import pickle\n",
    "import numpy as np\n",
    "\n",
    "sent_enc = np.load('../sample_data/sentence_encodings.npy', mmap_mode='r')\n",
    "s2i = dict((s,i) for i, s in enumerate(pickle.load(open('../sample_data/sentences.pickle', 'rb'))))\n",
    "\n",
    "border_cases = ['__RIGHT__', '__LEFT__', '__TOP__', '__BOTTOM__', '__NULL__']\n",
    "\n",
    "S = sent_enc.shape[0]\n",
    "\n",
    "border_case_encs = np.zeros([5,4096], dtype=float)\n",
    "border_case_encs[0,:] = 1 ; s2i[border_cases[0]] = S\n",
    "border_case_encs[1,:] = 1 ; s2i[border_cases[1]] = S+1\n",
    "border_case_encs[2,:] = 1 ; s2i[border_cases[2]] = S+2\n",
    "border_case_encs[3,:] = 1 ; s2i[border_cases[3]] = S+3\n",
    "border_case_encs[4,:] = 0 ; s2i[border_cases[4]] = S+4\n",
    "\n",
    "class sent_enc_wrapper:\n",
    "    def __init__(self, sent_enc, special_enc):\n",
    "        self.n , self.m = sent_enc.shape\n",
    "        self.sent_enc = sent_enc\n",
    "        self.special_enc = special_enc\n",
    "        self.shape = (self.n+5, self.m)\n",
    "        pass\n",
    "    \n",
    "    def __getitem__(self, ind):\n",
    "        if ind >= self.n:\n",
    "            return self.special_enc[ind - self.n]\n",
    "        else:\n",
    "            return self.sent_enc[ind]\n",
    "        \n",
    "\n",
    "#sent_enc = np.vstack([sent_enc, border_case_encs])\n",
    "sent_enc = sent_enc_wrapper(sent_enc, border_case_encs)"
   ]
  },
  {
   "cell_type": "code",
   "execution_count": null,
   "metadata": {},
   "outputs": [],
   "source": [
    "sys.path.append('../src/') ## the pickled model needs the 'cell_embedding.py' file in path\n",
    "ce = CellEmbedding(4096, 100, 8, bn=False, cuda=False)\n",
    "ce.load_model('../sample_data/test_model.pickle', sent_enc, s2i)"
   ]
  },
  {
   "cell_type": "code",
   "execution_count": null,
   "metadata": {},
   "outputs": [],
   "source": [
    "vtarr = get_vec_tarr(tarr, ce)"
   ]
  },
  {
   "cell_type": "code",
   "execution_count": null,
   "metadata": {},
   "outputs": [],
   "source": [
    "cl = pickle.load(open('../sample_data/test_cl_model.pickle', 'rb'))"
   ]
  },
  {
   "cell_type": "code",
   "execution_count": null,
   "metadata": {},
   "outputs": [],
   "source": [
    "vtarr.shape"
   ]
  },
  {
   "cell_type": "code",
   "execution_count": null,
   "metadata": {},
   "outputs": [],
   "source": [
    "pred, lp = cl.predict([vtarr])"
   ]
  },
  {
   "cell_type": "code",
   "execution_count": null,
   "metadata": {},
   "outputs": [],
   "source": [
    "labels = ['header', 'data', 'metadata', 'derived', 'attribute', 'null', 'notes']\n",
    "vfunc = np.vectorize(lambda x: labels[x])\n",
    "vfunc(pred)"
   ]
  }
 ],
 "metadata": {
  "kernelspec": {
   "display_name": "Python 3",
   "language": "python",
   "name": "python3"
  },
  "language_info": {
   "codemirror_mode": {
    "name": "ipython",
    "version": 3
   },
   "file_extension": ".py",
   "mimetype": "text/x-python",
   "name": "python",
   "nbconvert_exporter": "python",
   "pygments_lexer": "ipython3",
   "version": "3.7.1"
  }
 },
 "nbformat": 4,
 "nbformat_minor": 2
}
